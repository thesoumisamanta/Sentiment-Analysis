{
 "cells": [
  {
   "cell_type": "code",
   "execution_count": 2,
   "id": "d92b8735-1b0d-4f21-8c7f-69a949d5b700",
   "metadata": {},
   "outputs": [],
   "source": [
    "import pandas as pd\n",
    "\n",
    "# Load the CSV file\n",
    "file_path = r'D:\\Program\\Sentiment Analysis\\Model Dataset\\Twitter_Data.csv/Twitter_Data.csv'\n",
    "df = pd.read_csv(file_path)"
   ]
  },
  {
   "cell_type": "code",
   "execution_count": 4,
   "id": "6965414d-1894-48cb-bf15-0ec40e90e6f8",
   "metadata": {},
   "outputs": [],
   "source": [
    "# Renaming columns\n",
    "df.rename(columns={'clean_text': 'comments', 'category': 'Target'}, inplace=True)\n",
    "# Adding sentiment column based on 'Target' values\n",
    "def determine_sentiment(value):\n",
    "    if value == 1:\n",
    "        return 'positive'\n",
    "    elif value == -1:\n",
    "        return 'negative'\n",
    "    else:\n",
    "        return 'neutral'\n",
    "\n",
    "df['sentiment'] = df['Target'].apply(determine_sentiment)"
   ]
  },
  {
   "cell_type": "code",
   "execution_count": 6,
   "id": "cc512f2c-757a-4a53-89d7-f8f7620b4f6a",
   "metadata": {},
   "outputs": [
    {
     "name": "stdout",
     "output_type": "stream",
     "text": [
      "Updated file saved to D:\\Program\\Sentiment Analysis\\Model Dataset\\Twitter_Data.csv/Updated_Twitter_Dataset.csv\n"
     ]
    }
   ],
   "source": [
    "# Save the updated dataframe to a new CSV file\n",
    "output_file_path =  r'D:\\Program\\Sentiment Analysis\\Model Dataset\\Twitter_Data.csv/Updated_Twitter_Dataset.csv'\n",
    "df.to_csv(output_file_path, index=False)\n",
    "\n",
    "print(f\"Updated file saved to {output_file_path}\")"
   ]
  },
  {
   "cell_type": "code",
   "execution_count": null,
   "id": "6723889a-345a-4807-b1ed-073db22bbe53",
   "metadata": {},
   "outputs": [],
   "source": []
  }
 ],
 "metadata": {
  "kernelspec": {
   "display_name": "Python 3 (ipykernel)",
   "language": "python",
   "name": "python3"
  },
  "language_info": {
   "codemirror_mode": {
    "name": "ipython",
    "version": 3
   },
   "file_extension": ".py",
   "mimetype": "text/x-python",
   "name": "python",
   "nbconvert_exporter": "python",
   "pygments_lexer": "ipython3",
   "version": "3.12.1"
  }
 },
 "nbformat": 4,
 "nbformat_minor": 5
}
