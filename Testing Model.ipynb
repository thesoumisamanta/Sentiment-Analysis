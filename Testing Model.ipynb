{
 "cells": [
  {
   "cell_type": "code",
   "execution_count": 1,
   "id": "eca25b2e-04fd-4e63-9d65-0faacf037348",
   "metadata": {},
   "outputs": [
    {
     "name": "stdout",
     "output_type": "stream",
     "text": [
      "Comment: I love this product!\n",
      "Predicted Sentiment: Positive\n",
      "\n",
      "Comment: This is the worst service I have ever received.\n",
      "Predicted Sentiment: Negative\n",
      "\n",
      "Comment: It's okay, not great but not terrible.\n",
      "Predicted Sentiment: Positive\n",
      "\n",
      "Comment: Absolutely fantastic experience!\n",
      "Predicted Sentiment: Positive\n",
      "\n",
      "Comment: I wouldn't recommend this to anyone.\n",
      "Predicted Sentiment: Positive\n",
      "\n"
     ]
    }
   ],
   "source": [
    "import joblib\n",
    "from sklearn.feature_extraction.text import CountVectorizer\n",
    "\n",
    "# Load the trained model and vectorizer\n",
    "model = joblib.load('naive_bayes_model.pkl')\n",
    "vectorizer = joblib.load('vectorizer.pkl')\n",
    "\n",
    "def predict_sentiment(comment):\n",
    "    # Ensure the input is a list of strings for the vectorizer\n",
    "    comment_vector = vectorizer.transform([comment])\n",
    "    # Predict the sentiment\n",
    "    prediction = model.predict(comment_vector)\n",
    "    # Map the numerical prediction to sentiment labels\n",
    "    sentiment_map = {-1: 'Negative', 0: 'Neutral', 1: 'Positive'}\n",
    "    return sentiment_map[prediction[0]]\n",
    "\n",
    "# Example comments\n",
    "comments = [\n",
    "    \"I love this product!\",\n",
    "    \"This is the worst service I have ever received.\",\n",
    "    \"It's okay, not great but not terrible.\",\n",
    "    \"Absolutely fantastic experience!\",\n",
    "    \"I wouldn't recommend this to anyone.\"\n",
    "]\n",
    "\n",
    "# Predict sentiments\n",
    "for comment in comments:\n",
    "    sentiment = predict_sentiment(comment)\n",
    "    print(f\"Comment: {comment}\\nPredicted Sentiment: {sentiment}\\n\")\n"
   ]
  },
  {
   "cell_type": "code",
   "execution_count": 7,
   "id": "b1a13362-25ea-4b82-9633-1dceff1a28d3",
   "metadata": {},
   "outputs": [
    {
     "name": "stdout",
     "output_type": "stream",
     "text": [
      "Comment: I had a terrible experience with this service.\n",
      "Predicted Sentiment: Negative\n",
      "\n"
     ]
    }
   ],
   "source": [
    "comments = [\n",
    "  \"I had a terrible experience with this service.\"\n",
    "]\n",
    "\n",
    "# Predict sentiments\n",
    "for comment in comments:\n",
    "    sentiment = predict_sentiment(comment)\n",
    "    print(f\"Comment: {comment}\\nPredicted Sentiment: {sentiment}\\n\")"
   ]
  },
  {
   "cell_type": "code",
   "execution_count": 8,
   "id": "3d8cb2ce-c964-4739-bcde-d9eae618180a",
   "metadata": {},
   "outputs": [
    {
     "name": "stdout",
     "output_type": "stream",
     "text": [
      "Comment: Oh great, another update that breaks everything. Just what I needed.\n",
      "Predicted Sentiment: Positive\n",
      "\n"
     ]
    }
   ],
   "source": [
    "comments = [\n",
    " \"Oh great, another update that breaks everything. Just what I needed.\"\n",
    "]\n",
    "\n",
    "# Predict sentiments\n",
    "for comment in comments:\n",
    "    sentiment = predict_sentiment(comment)\n",
    "    print(f\"Comment: {comment}\\nPredicted Sentiment: {sentiment}\\n\")"
   ]
  },
  {
   "cell_type": "code",
   "execution_count": 9,
   "id": "3ad8cd45-fda2-4926-82cb-fd77cfc3495d",
   "metadata": {},
   "outputs": [
    {
     "name": "stdout",
     "output_type": "stream",
     "text": [
      "Comment: I love the design, but the functionality is quite poor.\n",
      "Predicted Sentiment: Negative\n",
      "\n",
      "Comment: It's not the worst product I've ever used, but it's far from the best.\n",
      "Predicted Sentiment: Positive\n",
      "\n",
      "Comment: The movie had stunning visuals, but the storyline was a total letdown.\n",
      "Predicted Sentiment: Positive\n",
      "\n"
     ]
    }
   ],
   "source": [
    "comments = [\n",
    "\"I love the design, but the functionality is quite poor.\",\n",
    "    \"It's not the worst product I've ever used, but it's far from the best.\",\n",
    "    \"The movie had stunning visuals, but the storyline was a total letdown.\"\n",
    "]\n",
    "\n",
    "# Predict sentiments\n",
    "for comment in comments:\n",
    "    sentiment = predict_sentiment(comment)\n",
    "    print(f\"Comment: {comment}\\nPredicted Sentiment: {sentiment}\\n\")"
   ]
  },
  {
   "cell_type": "code",
   "execution_count": null,
   "id": "24577768-34a3-435a-bd3d-1d45829e207e",
   "metadata": {},
   "outputs": [],
   "source": []
  }
 ],
 "metadata": {
  "kernelspec": {
   "display_name": "Python 3 (ipykernel)",
   "language": "python",
   "name": "python3"
  },
  "language_info": {
   "codemirror_mode": {
    "name": "ipython",
    "version": 3
   },
   "file_extension": ".py",
   "mimetype": "text/x-python",
   "name": "python",
   "nbconvert_exporter": "python",
   "pygments_lexer": "ipython3",
   "version": "3.12.1"
  }
 },
 "nbformat": 4,
 "nbformat_minor": 5
}
